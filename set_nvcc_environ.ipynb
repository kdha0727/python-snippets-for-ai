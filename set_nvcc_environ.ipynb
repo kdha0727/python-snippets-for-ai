{
 "cells": [
  {
   "cell_type": "markdown",
   "metadata": {
    "id": "7R7kIDIC5Gai",
    "tags": []
   },
   "source": [
    "# set_nvcc_environ.ipynb"
   ]
  },
  {
   "cell_type": "markdown",
   "metadata": {
    "id": "UeU86vHp4OVi",
    "tags": []
   },
   "source": [
    "## pytorch 및 nvcc 버전확인\n",
    "\n",
    "- pytorch르 빌드한 nvcc 버전이 설치된 경우 환경 변수를 맞춰주는 스크립트입니다."
   ]
  },
  {
   "cell_type": "code",
   "execution_count": 1,
   "metadata": {
    "colab": {
     "base_uri": "https://localhost:8080/",
     "height": 36
    },
    "id": "p87NqlMF3-17",
    "outputId": "e11ecf2b-4ea6-484b-8dc3-d25a76fa4f9c"
   },
   "outputs": [
    {
     "name": "stdout",
     "output_type": "stream",
     "text": [
      "TORCH Version: 1.8.2\n",
      "PYTORCH NVCC Version: 11.1\n",
      "Installed NVCC Version: Build cuda_11.1.TC455_06.29190527_0\n"
     ]
    }
   ],
   "source": [
    "import os\n",
    "import torch\n",
    "\n",
    "torch_version = torch.__version__\n",
    "nvcc_pytorch = torch.version.cuda\n",
    "\n",
    "if os.path.isdir(\"/usr/local/cuda-{}\".format(nvcc_pytorch)):\n",
    "    os.environ['PATH'] = \"/usr/local/cuda-{}/bin:\".format(nvcc_pytorch) + os.environ['PATH']\n",
    "    os.environ['LD_LIBRARY_PATH'] = \"/usr/local/cuda-{}/lib64\".format(nvcc_pytorch)\n",
    "    \n",
    "elif os.path.isdir(\"/usr/local/cuda\"):\n",
    "    os.environ['PATH'] = \"/usr/local/cuda/bin:\" + os.environ['PATH']\n",
    "    os.environ['LD_LIBRARY_PATH'] = \"/usr/local/cuda/lib64\"\n",
    "\n",
    "    \n",
    "nvcc_installed = !nvcc -V\n",
    "\n",
    "if '\\n'.join(nvcc_installed).find('not found') != -1:\n",
    "    nvcc_installed = \"Seems not installed...\"\n",
    "elif '\\n'.join(nvcc_installed).find(nvcc_pytorch) == -1:\n",
    "    nvcc_installed = \"Seems not properly configured...\"\n",
    "else:\n",
    "    nvcc_installed = nvcc_installed[-1]\n",
    "    \n",
    "print(\"TORCH Version:\", torch_version)\n",
    "print(\"PYTORCH NVCC Version:\", nvcc_pytorch)\n",
    "print(\"Installed NVCC Version:\", nvcc_installed)\n"
   ]
  },
  {
   "cell_type": "markdown",
   "metadata": {},
   "source": [
    "&nbsp;"
   ]
  }
 ],
 "metadata": {
  "kernelspec": {
   "display_name": "pytorch-lts",
   "language": "python",
   "name": "torch-lts"
  },
  "language_info": {
   "codemirror_mode": {
    "name": "ipython",
    "version": 3
   },
   "file_extension": ".py",
   "mimetype": "text/x-python",
   "name": "python",
   "nbconvert_exporter": "python",
   "pygments_lexer": "ipython3",
   "version": "3.8.12"
  }
 },
 "nbformat": 4,
 "nbformat_minor": 4
}
